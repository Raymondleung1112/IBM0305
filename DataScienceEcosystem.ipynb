{
 "cells": [
  {
   "cell_type": "markdown",
   "id": "15fb1c8a",
   "metadata": {},
   "source": [
    "<h1>Data Science Tools and Ecosystem<h1>"
   ]
  },
  {
   "cell_type": "markdown",
   "id": "db3d5998",
   "metadata": {},
   "source": [
    "In this notebook, Data Science Tools and Ecosystem are summarized."
   ]
  },
  {
   "cell_type": "markdown",
   "id": "7b14d8d6",
   "metadata": {},
   "source": [
    "Some of the popular languages that Data Scientists use are:\n",
    "1. Python\n",
    "2. R\n",
    "3. C++"
   ]
  },
  {
   "cell_type": "markdown",
   "id": "48a1d169",
   "metadata": {},
   "source": [
    "Some of the commonly used libraries used by Data Scientists include:\n",
    "1. Pandas\n",
    "2. Numpy\n",
    "3. Matplotlib"
   ]
  },
  {
   "cell_type": "markdown",
   "id": "878dcf8e",
   "metadata": {},
   "source": [
    "|Data Science Tools|\n",
    "|---|\n",
    "|1. Jupyter Notebook|\n",
    "|2. RStudio|\n",
    "|3. Visual Studio Code|"
   ]
  },
  {
   "cell_type": "markdown",
   "id": "2323a5ee",
   "metadata": {},
   "source": [
    "<h3>Below are a few examples of evaluating arithmetic expressions in Python<h3>\n",
    "2*2"
   ]
  },
  {
   "cell_type": "code",
   "execution_count": 14,
   "id": "f97f3834",
   "metadata": {},
   "outputs": [
    {
     "data": {
      "text/plain": [
       "17"
      ]
     },
     "execution_count": 14,
     "metadata": {},
     "output_type": "execute_result"
    }
   ],
   "source": [
    "#This a simple arithmetic expression to mutiply then add integers\n",
    "(3*4)+5"
   ]
  },
  {
   "cell_type": "code",
   "execution_count": 18,
   "id": "02dbf920",
   "metadata": {},
   "outputs": [
    {
     "name": "stdout",
     "output_type": "stream",
     "text": [
      "3.3333333333333335 hours\n"
     ]
    }
   ],
   "source": [
    "#This will convert 200 minutes to hours by diving by 60\n",
    "output=(200/60)\n",
    "print(output, \"hours\")"
   ]
  },
  {
   "cell_type": "markdown",
   "id": "0aae8638",
   "metadata": {},
   "source": [
    "Objectives:\n",
    "- list data science languages\n",
    "- list data science libraries\n",
    "- list data science tools"
   ]
  },
  {
   "cell_type": "markdown",
   "id": "a6c7dcc4",
   "metadata": {},
   "source": [
    "<h2>Author<h2>\n",
    "    Raymond Leung"
   ]
  },
  {
   "cell_type": "code",
   "execution_count": null,
   "id": "abb57a57",
   "metadata": {},
   "outputs": [],
   "source": []
  }
 ],
 "metadata": {
  "kernelspec": {
   "display_name": "Python 3 (ipykernel)",
   "language": "python",
   "name": "python3"
  },
  "language_info": {
   "codemirror_mode": {
    "name": "ipython",
    "version": 3
   },
   "file_extension": ".py",
   "mimetype": "text/x-python",
   "name": "python",
   "nbconvert_exporter": "python",
   "pygments_lexer": "ipython3",
   "version": "3.9.13"
  }
 },
 "nbformat": 4,
 "nbformat_minor": 5
}
